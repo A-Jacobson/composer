{
 "cells": [
  {
   "cell_type": "code",
   "execution_count": 18,
   "metadata": {},
   "outputs": [
    {
     "data": {
      "text/plain": [
       "<torch._C.Generator at 0x7ff43e064a10>"
      ]
     },
     "execution_count": 18,
     "metadata": {},
     "output_type": "execute_result"
    }
   ],
   "source": [
    "import torch\n",
    "\n",
    "import composer\n",
    "from composer.datasets import coco_mmdet\n",
    "from composer.models import composer_yolox\n",
    "from torch.utils.data import DataLoader\n",
    "from composer.datasets.coco_mmdet import mmdet_collate\n",
    "from composer.core.data_spec import DataSpec\n",
    "from composer.loggers import InMemoryLogger, LogLevel, WandBLogger\n",
    "\n",
    "\n",
    "\n",
    "import logging, sys # disable logging in notebook\n",
    "logging.disable(sys.maxsize)\n",
    "\n",
    "torch.manual_seed(42) # For replicability"
   ]
  },
  {
   "cell_type": "code",
   "execution_count": 2,
   "metadata": {},
   "outputs": [
    {
     "name": "stdout",
     "output_type": "stream",
     "text": [
      "loading annotations into memory...\n",
      "Done (t=11.58s)\n",
      "creating index...\n",
      "index created!\n",
      "loading annotations into memory...\n",
      "Done (t=0.36s)\n",
      "creating index...\n",
      "index created!\n"
     ]
    }
   ],
   "source": [
    "train_dataset = coco_mmdet(path='../../data/coco', split='train')\n",
    "val_dataset = coco_mmdet(path='../../data/coco', split='val')"
   ]
  },
  {
   "cell_type": "code",
   "execution_count": 3,
   "metadata": {},
   "outputs": [],
   "source": [
    "model = composer_yolox(model_name='yolox-s')"
   ]
  },
  {
   "cell_type": "code",
   "execution_count": 4,
   "metadata": {},
   "outputs": [],
   "source": [
    "train_loader = DataLoader(train_dataset, batch_size=64, collate_fn=mmdet_collate, shuffle=True)\n",
    "val_loader = DataLoader(val_dataset, batch_size=64, collate_fn=mmdet_collate, shuffle=False)"
   ]
  },
  {
   "cell_type": "markdown",
   "metadata": {},
   "source": [
    "optimizer = dict(\n",
    "    type='SGD',\n",
    "    lr=0.01,\n",
    "    momentum=0.9,\n",
    "    weight_decay=5e-4,\n",
    "    nesterov=True,\n",
    "    paramwise_cfg=dict(norm_decay_mult=0., bias_decay_mult=0.))\n",
    "optimizer_config = dict(grad_clip=None)"
   ]
  },
  {
   "cell_type": "code",
   "execution_count": 12,
   "metadata": {},
   "outputs": [],
   "source": [
    "optimizer = composer.optim.DecoupledSGDW(\n",
    "    model.parameters(), # Model parameters to update\n",
    "    lr=0.01, # Peak learning rate\n",
    "    momentum=0.9,\n",
    "    weight_decay=5e-4,\n",
    "    nesterov=True # If this looks large, it's because its not scaled by the LR as in non-decoupled weight decay\n",
    ")"
   ]
  },
  {
   "cell_type": "code",
   "execution_count": 13,
   "metadata": {},
   "outputs": [],
   "source": [
    "lr_scheduler = composer.optim.CosineAnnealingWithWarmupScheduler(\n",
    "    t_warmup=\"30ep\", # Warm up over 30 epoch\n",
    ")"
   ]
  },
  {
   "cell_type": "code",
   "execution_count": 20,
   "metadata": {},
   "outputs": [
    {
     "name": "stderr",
     "output_type": "stream",
     "text": [
      "\u001b[34m\u001b[1mwandb\u001b[0m: Currently logged in as: \u001b[33maustin-j\u001b[0m (\u001b[33mmosaic-ml\u001b[0m). Use \u001b[1m`wandb login --relogin`\u001b[0m to force relogin\n"
     ]
    },
    {
     "data": {
      "text/html": [
       "Tracking run with wandb version 0.12.21"
      ],
      "text/plain": [
       "<IPython.core.display.HTML object>"
      ]
     },
     "metadata": {},
     "output_type": "display_data"
    },
    {
     "data": {
      "text/html": [
       "Run data is saved locally in <code>/workdisk/austin/composer/examples/wandb/run-20220719_013007-25y70zhu</code>"
      ],
      "text/plain": [
       "<IPython.core.display.HTML object>"
      ]
     },
     "metadata": {},
     "output_type": "display_data"
    },
    {
     "data": {
      "text/html": [
       "Syncing run <strong><a href=\"https://wandb.ai/mosaic-ml/yolox-test/runs/25y70zhu\" target=\"_blank\">1658194207-silky-asp</a></strong> to <a href=\"https://wandb.ai/mosaic-ml/yolox-test\" target=\"_blank\">Weights & Biases</a> (<a href=\"https://wandb.me/run\" target=\"_blank\">docs</a>)<br/>"
      ],
      "text/plain": [
       "<IPython.core.display.HTML object>"
      ]
     },
     "metadata": {},
     "output_type": "display_data"
    }
   ],
   "source": [
    "train_epochs = \"300ep\" # Train for 3 epochs because we're assuming Colab environment and hardware\n",
    "\n",
    "trainer = composer.trainer.Trainer(\n",
    "    model=model,\n",
    "    train_dataloader=DataSpec(train_loader, get_num_samples_in_batch=lambda x: 64),\n",
    "    eval_dataloader=DataSpec(val_loader, get_num_samples_in_batch=lambda x: 64),\n",
    "    max_duration=train_epochs,\n",
    "    optimizers=optimizer,\n",
    "    schedulers=lr_scheduler,\n",
    "    device=\"gpu\" if torch.cuda.is_available() else \"cpu\",\n",
    "    loggers=[InMemoryLogger(log_level=LogLevel.BATCH), WandBLogger(project='yolox-test')])\n"
   ]
  },
  {
   "cell_type": "code",
   "execution_count": 21,
   "metadata": {},
   "outputs": [
    {
     "data": {
      "application/vnd.jupyter.widget-view+json": {
       "model_id": "fc520acff89547588d602cf50bc08507",
       "version_major": 2,
       "version_minor": 0
      },
      "text/plain": [
       "Epoch     0 train   0%|                         | 0/9858 [00:00<?, ?it/s]         "
      ]
     },
     "metadata": {},
     "output_type": "display_data"
    }
   ],
   "source": [
    "trainer.fit()"
   ]
  },
  {
   "cell_type": "code",
   "execution_count": 9,
   "metadata": {},
   "outputs": [
    {
     "data": {
      "text/plain": [
       "{'eval': {'val_map': tensor(0.),\n",
       "  'val_map_50': tensor(0.),\n",
       "  'val_map_75': tensor(0.),\n",
       "  'val_map_small': tensor(0.),\n",
       "  'val_map_medium': tensor(0.),\n",
       "  'val_map_large': tensor(0.),\n",
       "  'val_mar_1': tensor(0.),\n",
       "  'val_mar_10': tensor(0.),\n",
       "  'val_mar_100': tensor(0.),\n",
       "  'val_mar_small': tensor(0.),\n",
       "  'val_mar_medium': tensor(0.),\n",
       "  'val_mar_large': tensor(0.),\n",
       "  'val_map_per_class': tensor(-1.),\n",
       "  'val_mar_100_per_class': tensor(-1.)}}"
      ]
     },
     "execution_count": 9,
     "metadata": {},
     "output_type": "execute_result"
    }
   ],
   "source": [
    "trainer.state.current_metrics"
   ]
  },
  {
   "cell_type": "code",
   "execution_count": null,
   "metadata": {},
   "outputs": [],
   "source": [
    "WandBLogger(project='yolox-test')"
   ]
  }
 ],
 "metadata": {
  "kernelspec": {
   "display_name": "Python 3.9.13 64-bit",
   "language": "python",
   "name": "python3"
  },
  "language_info": {
   "codemirror_mode": {
    "name": "ipython",
    "version": 3
   },
   "file_extension": ".py",
   "mimetype": "text/x-python",
   "name": "python",
   "nbconvert_exporter": "python",
   "pygments_lexer": "ipython3",
   "version": "3.9.13"
  },
  "orig_nbformat": 4,
  "vscode": {
   "interpreter": {
    "hash": "738e66666dc83b73cd364c6226f100af1e1e94f10c7cef866572a49fea76c86f"
   }
  }
 },
 "nbformat": 4,
 "nbformat_minor": 2
}
